{
  "nbformat": 4,
  "nbformat_minor": 0,
  "metadata": {
    "colab": {
      "provenance": [],
      "authorship_tag": "ABX9TyOyBdgbpE1n7DQ4urmFu8DE",
      "include_colab_link": true
    },
    "kernelspec": {
      "name": "python3",
      "display_name": "Python 3"
    },
    "language_info": {
      "name": "python"
    }
  },
  "cells": [
    {
      "cell_type": "markdown",
      "metadata": {
        "id": "view-in-github",
        "colab_type": "text"
      },
      "source": [
        "<a href=\"https://colab.research.google.com/github/BrenooOliveira/bigData_senaiCourse/blob/main/bills.ipynb\" target=\"_parent\"><img src=\"https://colab.research.google.com/assets/colab-badge.svg\" alt=\"Open In Colab\"/></a>"
      ]
    },
    {
      "cell_type": "markdown",
      "source": [
        "At the beginning:\n",
        "\n",
        "- ask the user for the amount to be withdrawn (integer number);\n",
        "- the program will inform how many bills of each value will be dispensed.\n",
        "- Consider that the ATM has bills of R$50, R$20, R$10, and R$1."
      ],
      "metadata": {
        "id": "L6ZHu599x1JP"
      }
    },
    {
      "cell_type": "markdown",
      "source": [
        "[![](https://mermaid.ink/img/pako:eNqF0ltrwjAUAOC_cshThcragi8dE6atupe9uD1s6xhnTVyDbdImKTLU_7704tiKaCAQzuU7gWRPUkkZCcmXwjKDp-g2EWDXvbM2qMwIxuMpzJx5xtIt8A3suMmowh3mwDXkTGswGQqQClhV26iR4I16ZGa74YXpFpk7saD_Mo-yTUS9PvFcCOz27UZBwYdPnue6aemaoqb8oLGq2c3Eg-kd-AeI3x5EqljBhIHK0A-baJqfS4qG_bnuez857maeRYMTuhigwRV0cQH1T-hygPpX0OU5FFZD5TKy-kWISwqmCuTUvva-ySbEZBZKSGiPFNU2IYk42jqsjVx_i5SERtXMJXWrRxztJylIuMFc22iJ4lXKois6_gB76rHF?type=png)](https://mermaid.live/edit#pako:eNqF0ltrwjAUAOC_cshThcragi8dE6atupe9uD1s6xhnTVyDbdImKTLU_7704tiKaCAQzuU7gWRPUkkZCcmXwjKDp-g2EWDXvbM2qMwIxuMpzJx5xtIt8A3suMmowh3mwDXkTGswGQqQClhV26iR4I16ZGa74YXpFpk7saD_Mo-yTUS9PvFcCOz27UZBwYdPnue6aemaoqb8oLGq2c3Eg-kd-AeI3x5EqljBhIHK0A-baJqfS4qG_bnuez857maeRYMTuhigwRV0cQH1T-hygPpX0OU5FFZD5TKy-kWISwqmCuTUvva-ySbEZBZKSGiPFNU2IYk42jqsjVx_i5SERtXMJXWrRxztJylIuMFc22iJ4lXKois6_gB76rHF)"
      ],
      "metadata": {
        "id": "Ig2FeVUjAVJj"
      }
    },
    {
      "cell_type": "code",
      "execution_count": null,
      "metadata": {
        "colab": {
          "base_uri": "https://localhost:8080/"
        },
        "id": "YpOpxD-ixwut",
        "outputId": "f2167894-5ede-4df8-ed91-a393c239bb94"
      },
      "outputs": [
        {
          "output_type": "execute_result",
          "data": {
            "text/plain": [
              "85"
            ]
          },
          "metadata": {},
          "execution_count": 48
        }
      ],
      "source": [
        "saque = 85\n",
        "saque\n"
      ]
    },
    {
      "cell_type": "code",
      "source": [
        "qtd_50, qtd_20, qtd_10, qtd_1 = 0,0,0,0\n",
        "\n",
        "while True:\n",
        "  if saque <= 0:\n",
        "    break\n",
        "\n",
        "  elif saque/50 >= 1:  # se for > 1, significa que haverá nota de 50\n",
        "    qtd_50 = qtd_50 + 1\n",
        "    saque = saque - 50\n",
        "\n",
        "  elif saque/20 >= 1:\n",
        "    qtd_20 = qtd_20 + 1\n",
        "    saque = saque - 20\n",
        "\n",
        "  elif saque/10 >= 1:\n",
        "    qtd_10 = qtd_10 + 1\n",
        "    saque = saque - 10\n",
        "\n",
        "  else:\n",
        "    qtd_1 = qtd_1 + 1\n",
        "    saque = saque - 1\n",
        "\n",
        "print(qtd_50, qtd_20, qtd_10, qtd_1)"
      ],
      "metadata": {
        "colab": {
          "base_uri": "https://localhost:8080/"
        },
        "id": "-nxI3_yRyLaO",
        "outputId": "0af36226-db6e-4fe9-e0cd-680edeaa6e4e"
      },
      "execution_count": null,
      "outputs": [
        {
          "output_type": "stream",
          "name": "stdout",
          "text": [
            "1 1 1 5\n"
          ]
        }
      ]
    }
  ]
}