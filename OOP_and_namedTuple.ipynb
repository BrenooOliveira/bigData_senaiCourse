{
  "nbformat": 4,
  "nbformat_minor": 0,
  "metadata": {
    "colab": {
      "provenance": [],
      "authorship_tag": "ABX9TyMcku6odSa+lQEjTau9czCV",
      "include_colab_link": true
    },
    "kernelspec": {
      "name": "python3",
      "display_name": "Python 3"
    },
    "language_info": {
      "name": "python"
    }
  },
  "cells": [
    {
      "cell_type": "markdown",
      "metadata": {
        "id": "view-in-github",
        "colab_type": "text"
      },
      "source": [
        "<a href=\"https://colab.research.google.com/github/BrenooOliveira/bigData_senaiCourse/blob/main/OOP_and_namedTuple.ipynb\" target=\"_parent\"><img src=\"https://colab.research.google.com/assets/colab-badge.svg\" alt=\"Open In Colab\"/></a>"
      ]
    },
    {
      "cell_type": "code",
      "execution_count": 1,
      "metadata": {
        "id": "zY1UfC5H2u0K"
      },
      "outputs": [],
      "source": [
        "from collections import namedtuple\n",
        "import numpy as np"
      ]
    },
    {
      "cell_type": "markdown",
      "source": [
        "Escreva um programa que leia o\n",
        "Nome, idade e sexo de 4 pessoas. No final mostre:\n",
        "\n",
        "- A média de idade do grupo\n",
        "- Qual é o homem mais velho\n",
        "- Quantas mulheres têm menos de 20 anos\n"
      ],
      "metadata": {
        "id": "LXuEYWP8EVdK"
      }
    },
    {
      "cell_type": "code",
      "source": [
        "def tuplas_nomeadas(*args):\n",
        "  '''\n",
        "  ::DESCRIÇÃO:: recebe as args (tupla) e armazena no obj chamado\n",
        "  'objeto' que está instânciado por my_namedTuple\n",
        "  '''\n",
        "  my_namedTuple = namedtuple('objeto',args)\n",
        "\n",
        "  return my_namedTuple"
      ],
      "metadata": {
        "id": "V_OdPAm6Gd6B"
      },
      "execution_count": 2,
      "outputs": []
    },
    {
      "cell_type": "code",
      "source": [
        "class Pessoas():\n",
        "  def __init__(self,pessoas: list):\n",
        "    '''\n",
        "    ::DESCRI:: recebe uma lista com os objetos pessoas\n",
        "    '''\n",
        "    self.pessoas = pessoas\n",
        "\n",
        "  #A média de idade do grupo\n",
        "  def media_idade(self):\n",
        "    from numpy import mean\n",
        "    idades = []\n",
        "\n",
        "    # para cada valor de 'idade' dentro dos objetos de pessoas da lista 'pessoas'\n",
        "    for i,v in enumerate(self.pessoas):\n",
        "      idades.append(v.idade)\n",
        "    return np.mean(idades)\n",
        "\n",
        "    #Qual é o homem mais velho\n",
        "    def older_man(self):\n",
        "      older = max(p for p in self.pessoas if p.sexo == 'M')\n",
        "      return older\n",
        "\n",
        "    # Quais mulheres têm menos de 20 anos\n",
        "    def women_less_20y(self):\n",
        "      less_20y = [w for w in pessoas if w.sexo.upper(startswith('F')) and w.idade]"
      ],
      "metadata": {
        "id": "19UBP7xd2264"
      },
      "execution_count": null,
      "outputs": []
    }
  ]
}